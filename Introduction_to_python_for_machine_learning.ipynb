{
  "nbformat": 4,
  "nbformat_minor": 0,
  "metadata": {
    "colab": {
      "name": "Graded Assignment 1.ipynb",
      "provenance": [],
      "collapsed_sections": [],
      "authorship_tag": "ABX9TyOBB0aIanAZMewL9AFYVDcb",
      "include_colab_link": true
    },
    "kernelspec": {
      "name": "python3",
      "display_name": "Python 3"
    }
  },
  "cells": [
    {
      "cell_type": "markdown",
      "metadata": {
        "id": "view-in-github",
        "colab_type": "text"
      },
      "source": [
        "<a href=\"https://colab.research.google.com/github/GodChosen/hamoye_internship/blob/master/Introduction_to_python_for_machine_learning.ipynb\" target=\"_parent\"><img src=\"https://colab.research.google.com/assets/colab-badge.svg\" alt=\"Open In Colab\"/></a>"
      ]
    },
    {
      "cell_type": "code",
      "metadata": {
        "id": "XoqFoBpdgLSM",
        "colab_type": "code",
        "colab": {
          "base_uri": "https://localhost:8080/",
          "height": 238
        },
        "outputId": "f8b7ce77-e29b-47f0-9be5-a4a72381b5ba"
      },
      "source": [
        "import numpy as np\n",
        "import pandas as pd\n",
        "\n",
        "#import fuel dataset\n",
        "url = 'https://raw.githubusercontent.com/WalePhenomenon/climate_change/master/fuel_ferc1.csv?raw=true'\n",
        "\n",
        "#read the fuel dataset\n",
        "utility_data = pd.read_csv(url, error_bad_lines=False)\n",
        "df = pd.DataFrame(utility_data, index=None, columns=['record_id','utility_id_ferc1','report_year','plant_name_ferc1','fuel_type_code_pudl','fuel_unit','fuel_qty_burned',\n",
        "'fuel_mmbtu_per_unit','fuel_cost_per_unit_burned','fuel_cost_per_unit_delivered','fuel_cost_per_mmbtu'])\n",
        "\n",
        "#find the fuel type with the lowest average fuel cost per unit burned\n",
        "df.groupby('fuel_type_code_pudl', as_index=False)['fuel_cost_per_unit_burned'].mean().min()\n",
        "\n",
        "#find the standard deviation and 75th percentile of the measure of energy cost per unit to 2 d.p.\n",
        "print(round(df['fuel_mmbtu_per_unit'].describe(include='all'), 2))\n",
        "\n",
        "#find the skewness and kurtosis for the fuel quantity burned in 2 d.p.\n",
        "skewness = round(df['fuel_qty_burned'].skew(), 2)\n",
        "kurtosis = round(df['fuel_qty_burned'].kurt(), 2)\n",
        "print(\"skewness:\", + skewness, \"kurtosis:\", + kurtosis)\n",
        "\n",
        "#Find missing values, calculate the total no of missing values, and its percentage of the total no of rows\n",
        "features = df.isnull().any()\n",
        "print(features[features.values==True])\n",
        "total_missing_value = df['fuel_unit'].isnull().sum()\n",
        "percentage_of_missing_value = total_missing_value*100/len(df)\n",
        "print('Feature: fuel_unit', 'Total:', + total_missing_value, 'Percent:', + percentage_of_missing_value)\n",
        "\n",
        "#Find the correlation of the features with the fuel cost per unit burned\n",
        "print((df.corr()['fuel_cost_per_unit_burned']).sort_values())\n",
        "\n",
        "\n",
        "#find year with the highest average fuel cost per unit delivered\n",
        "df.groupby('report_year', as_index=False)['fuel_cost_per_unit_delivered'].mean().max()['report_year']\n",
        "\n",
        "\n"
      ],
      "execution_count": null,
      "outputs": [
        {
          "output_type": "stream",
          "text": [
            "skewness: 15.85 kurtosis: 651.37\n",
            "fuel_unit    True\n",
            "dtype: bool\n",
            "Feature: fuel_unit Total: 180 Percent: 0.6096941367747181\n",
            "utility_id_ferc1               -0.037863\n",
            "fuel_qty_burned                -0.018535\n",
            "fuel_mmbtu_per_unit            -0.010034\n",
            "fuel_cost_per_mmbtu            -0.000437\n",
            "fuel_cost_per_unit_delivered    0.011007\n",
            "report_year                     0.013599\n",
            "fuel_cost_per_unit_burned       1.000000\n",
            "Name: fuel_cost_per_unit_burned, dtype: float64\n"
          ],
          "name": "stdout"
        },
        {
          "output_type": "execute_result",
          "data": {
            "text/plain": [
              "2018.0"
            ]
          },
          "metadata": {
            "tags": []
          },
          "execution_count": 10
        }
      ]
    }
  ]
}